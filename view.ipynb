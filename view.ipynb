{
 "cells": [
  {
   "cell_type": "code",
   "execution_count": 2,
   "id": "7cc2688b",
   "metadata": {},
   "outputs": [],
   "source": [
    "import pandas as pd"
   ]
  },
  {
   "cell_type": "code",
   "execution_count": null,
   "id": "4ed8ca2c",
   "metadata": {},
   "outputs": [
    {
     "data": {
      "application/vnd.microsoft.datawrangler.viewer.v0+json": {
       "columns": [
        {
         "name": "index",
         "rawType": "int64",
         "type": "integer"
        },
        {
         "name": "#RIC",
         "rawType": "object",
         "type": "string"
        },
        {
         "name": "Alias Underlying RIC",
         "rawType": "float64",
         "type": "float"
        },
        {
         "name": "Domain",
         "rawType": "object",
         "type": "string"
        },
        {
         "name": "Date-Time",
         "rawType": "object",
         "type": "string"
        },
        {
         "name": "GMT Offset",
         "rawType": "int64",
         "type": "integer"
        },
        {
         "name": "Type",
         "rawType": "object",
         "type": "string"
        },
        {
         "name": "Open",
         "rawType": "float64",
         "type": "float"
        },
        {
         "name": "High",
         "rawType": "float64",
         "type": "float"
        },
        {
         "name": "Low",
         "rawType": "float64",
         "type": "float"
        },
        {
         "name": "Last",
         "rawType": "float64",
         "type": "float"
        },
        {
         "name": "Volume",
         "rawType": "float64",
         "type": "float"
        }
       ],
       "ref": "27ff86f2-a6b9-45b8-adc3-f48453262299",
       "rows": [
        [
         "0",
         ".INX",
         null,
         "Market Price",
         "2020-01-02T14:30:00.000000000Z",
         "-6",
         "Intraday 1Min",
         "3244.67",
         "3247.4",
         "3244.67",
         "3247.22",
         "34024.0"
        ],
        [
         "1",
         ".INX",
         null,
         "Market Price",
         "2020-01-02T14:31:00.000000000Z",
         "-6",
         "Intraday 1Min",
         "3247.19",
         "3247.22",
         "3245.01",
         "3245.22",
         "8945.0"
        ],
        [
         "2",
         ".INX",
         null,
         "Market Price",
         "2020-01-02T14:32:00.000000000Z",
         "-6",
         "Intraday 1Min",
         "3245.07",
         "3245.54",
         "3244.16",
         "3244.66",
         "7437.0"
        ],
        [
         "3",
         ".INX",
         null,
         "Market Price",
         "2020-01-02T14:33:00.000000000Z",
         "-6",
         "Intraday 1Min",
         "3244.89",
         "3247.69",
         "3244.89",
         "3247.61",
         "6557.0"
        ],
        [
         "4",
         ".INX",
         null,
         "Market Price",
         "2020-01-02T14:34:00.000000000Z",
         "-6",
         "Intraday 1Min",
         "3247.38",
         "3248.08",
         "3246.92",
         "3246.92",
         "6075.0"
        ]
       ],
       "shape": {
        "columns": 11,
        "rows": 5
       }
      },
      "text/html": [
       "<div>\n",
       "<style scoped>\n",
       "    .dataframe tbody tr th:only-of-type {\n",
       "        vertical-align: middle;\n",
       "    }\n",
       "\n",
       "    .dataframe tbody tr th {\n",
       "        vertical-align: top;\n",
       "    }\n",
       "\n",
       "    .dataframe thead th {\n",
       "        text-align: right;\n",
       "    }\n",
       "</style>\n",
       "<table border=\"1\" class=\"dataframe\">\n",
       "  <thead>\n",
       "    <tr style=\"text-align: right;\">\n",
       "      <th></th>\n",
       "      <th>#RIC</th>\n",
       "      <th>Alias Underlying RIC</th>\n",
       "      <th>Domain</th>\n",
       "      <th>Date-Time</th>\n",
       "      <th>GMT Offset</th>\n",
       "      <th>Type</th>\n",
       "      <th>Open</th>\n",
       "      <th>High</th>\n",
       "      <th>Low</th>\n",
       "      <th>Last</th>\n",
       "      <th>Volume</th>\n",
       "    </tr>\n",
       "  </thead>\n",
       "  <tbody>\n",
       "    <tr>\n",
       "      <th>0</th>\n",
       "      <td>.INX</td>\n",
       "      <td>NaN</td>\n",
       "      <td>Market Price</td>\n",
       "      <td>2020-01-02T14:30:00.000000000Z</td>\n",
       "      <td>-6</td>\n",
       "      <td>Intraday 1Min</td>\n",
       "      <td>3244.67</td>\n",
       "      <td>3247.40</td>\n",
       "      <td>3244.67</td>\n",
       "      <td>3247.22</td>\n",
       "      <td>34024.0</td>\n",
       "    </tr>\n",
       "    <tr>\n",
       "      <th>1</th>\n",
       "      <td>.INX</td>\n",
       "      <td>NaN</td>\n",
       "      <td>Market Price</td>\n",
       "      <td>2020-01-02T14:31:00.000000000Z</td>\n",
       "      <td>-6</td>\n",
       "      <td>Intraday 1Min</td>\n",
       "      <td>3247.19</td>\n",
       "      <td>3247.22</td>\n",
       "      <td>3245.01</td>\n",
       "      <td>3245.22</td>\n",
       "      <td>8945.0</td>\n",
       "    </tr>\n",
       "    <tr>\n",
       "      <th>2</th>\n",
       "      <td>.INX</td>\n",
       "      <td>NaN</td>\n",
       "      <td>Market Price</td>\n",
       "      <td>2020-01-02T14:32:00.000000000Z</td>\n",
       "      <td>-6</td>\n",
       "      <td>Intraday 1Min</td>\n",
       "      <td>3245.07</td>\n",
       "      <td>3245.54</td>\n",
       "      <td>3244.16</td>\n",
       "      <td>3244.66</td>\n",
       "      <td>7437.0</td>\n",
       "    </tr>\n",
       "    <tr>\n",
       "      <th>3</th>\n",
       "      <td>.INX</td>\n",
       "      <td>NaN</td>\n",
       "      <td>Market Price</td>\n",
       "      <td>2020-01-02T14:33:00.000000000Z</td>\n",
       "      <td>-6</td>\n",
       "      <td>Intraday 1Min</td>\n",
       "      <td>3244.89</td>\n",
       "      <td>3247.69</td>\n",
       "      <td>3244.89</td>\n",
       "      <td>3247.61</td>\n",
       "      <td>6557.0</td>\n",
       "    </tr>\n",
       "    <tr>\n",
       "      <th>4</th>\n",
       "      <td>.INX</td>\n",
       "      <td>NaN</td>\n",
       "      <td>Market Price</td>\n",
       "      <td>2020-01-02T14:34:00.000000000Z</td>\n",
       "      <td>-6</td>\n",
       "      <td>Intraday 1Min</td>\n",
       "      <td>3247.38</td>\n",
       "      <td>3248.08</td>\n",
       "      <td>3246.92</td>\n",
       "      <td>3246.92</td>\n",
       "      <td>6075.0</td>\n",
       "    </tr>\n",
       "  </tbody>\n",
       "</table>\n",
       "</div>"
      ],
      "text/plain": [
       "   #RIC  Alias Underlying RIC        Domain                       Date-Time  \\\n",
       "0  .INX                   NaN  Market Price  2020-01-02T14:30:00.000000000Z   \n",
       "1  .INX                   NaN  Market Price  2020-01-02T14:31:00.000000000Z   \n",
       "2  .INX                   NaN  Market Price  2020-01-02T14:32:00.000000000Z   \n",
       "3  .INX                   NaN  Market Price  2020-01-02T14:33:00.000000000Z   \n",
       "4  .INX                   NaN  Market Price  2020-01-02T14:34:00.000000000Z   \n",
       "\n",
       "   GMT Offset           Type     Open     High      Low     Last   Volume  \n",
       "0          -6  Intraday 1Min  3244.67  3247.40  3244.67  3247.22  34024.0  \n",
       "1          -6  Intraday 1Min  3247.19  3247.22  3245.01  3245.22   8945.0  \n",
       "2          -6  Intraday 1Min  3245.07  3245.54  3244.16  3244.66   7437.0  \n",
       "3          -6  Intraday 1Min  3244.89  3247.69  3244.89  3247.61   6557.0  \n",
       "4          -6  Intraday 1Min  3247.38  3248.08  3246.92  3246.92   6075.0  "
      ]
     },
     "execution_count": 3,
     "metadata": {},
     "output_type": "execute_result"
    }
   ],
   "source": [
    "df = pd.read_csv(\"cold_storage/SPX_Cash.csv.gz\")\n",
    "df.head()"
   ]
  },
  {
   "cell_type": "code",
   "execution_count": 10,
   "id": "7d067e59",
   "metadata": {},
   "outputs": [
    {
     "ename": "KeyError",
     "evalue": "\"['Volume', 'Domain', '#RIC'] not found in axis\"",
     "output_type": "error",
     "traceback": [
      "\u001b[0;31m---------------------------------------------------------------------------\u001b[0m",
      "\u001b[0;31mKeyError\u001b[0m                                  Traceback (most recent call last)",
      "Cell \u001b[0;32mIn[10], line 1\u001b[0m\n\u001b[0;32m----> 1\u001b[0m \u001b[43mdf\u001b[49m\u001b[38;5;241;43m.\u001b[39;49m\u001b[43mdrop\u001b[49m\u001b[43m(\u001b[49m\u001b[43mcolumns\u001b[49m\u001b[38;5;241;43m=\u001b[39;49m\u001b[43m[\u001b[49m\u001b[38;5;124;43m\"\u001b[39;49m\u001b[38;5;124;43mVolume\u001b[39;49m\u001b[38;5;124;43m\"\u001b[39;49m\u001b[43m,\u001b[49m\u001b[43m \u001b[49m\u001b[38;5;124;43m\"\u001b[39;49m\u001b[38;5;124;43mDomain\u001b[39;49m\u001b[38;5;124;43m\"\u001b[39;49m\u001b[43m,\u001b[49m\u001b[43m \u001b[49m\u001b[38;5;124;43m\"\u001b[39;49m\u001b[38;5;124;43m#RIC\u001b[39;49m\u001b[38;5;124;43m\"\u001b[39;49m\u001b[43m]\u001b[49m\u001b[43m,\u001b[49m\u001b[43m \u001b[49m\u001b[43maxis\u001b[49m\u001b[38;5;241;43m=\u001b[39;49m\u001b[38;5;241;43m1\u001b[39;49m\u001b[43m,\u001b[49m\u001b[43m \u001b[49m\u001b[43minplace\u001b[49m\u001b[38;5;241;43m=\u001b[39;49m\u001b[38;5;28;43;01mTrue\u001b[39;49;00m\u001b[43m)\u001b[49m\n\u001b[1;32m      2\u001b[0m df\u001b[38;5;241m.\u001b[39mhead()\n",
      "File \u001b[0;32m~/Database/venv/lib/python3.10/site-packages/pandas/core/frame.py:5581\u001b[0m, in \u001b[0;36mDataFrame.drop\u001b[0;34m(self, labels, axis, index, columns, level, inplace, errors)\u001b[0m\n\u001b[1;32m   5433\u001b[0m \u001b[38;5;28;01mdef\u001b[39;00m\u001b[38;5;250m \u001b[39m\u001b[38;5;21mdrop\u001b[39m(\n\u001b[1;32m   5434\u001b[0m     \u001b[38;5;28mself\u001b[39m,\n\u001b[1;32m   5435\u001b[0m     labels: IndexLabel \u001b[38;5;241m|\u001b[39m \u001b[38;5;28;01mNone\u001b[39;00m \u001b[38;5;241m=\u001b[39m \u001b[38;5;28;01mNone\u001b[39;00m,\n\u001b[0;32m   (...)\u001b[0m\n\u001b[1;32m   5442\u001b[0m     errors: IgnoreRaise \u001b[38;5;241m=\u001b[39m \u001b[38;5;124m\"\u001b[39m\u001b[38;5;124mraise\u001b[39m\u001b[38;5;124m\"\u001b[39m,\n\u001b[1;32m   5443\u001b[0m ) \u001b[38;5;241m-\u001b[39m\u001b[38;5;241m>\u001b[39m DataFrame \u001b[38;5;241m|\u001b[39m \u001b[38;5;28;01mNone\u001b[39;00m:\n\u001b[1;32m   5444\u001b[0m \u001b[38;5;250m    \u001b[39m\u001b[38;5;124;03m\"\"\"\u001b[39;00m\n\u001b[1;32m   5445\u001b[0m \u001b[38;5;124;03m    Drop specified labels from rows or columns.\u001b[39;00m\n\u001b[1;32m   5446\u001b[0m \n\u001b[0;32m   (...)\u001b[0m\n\u001b[1;32m   5579\u001b[0m \u001b[38;5;124;03m            weight  1.0     0.8\u001b[39;00m\n\u001b[1;32m   5580\u001b[0m \u001b[38;5;124;03m    \"\"\"\u001b[39;00m\n\u001b[0;32m-> 5581\u001b[0m     \u001b[38;5;28;01mreturn\u001b[39;00m \u001b[38;5;28;43msuper\u001b[39;49m\u001b[43m(\u001b[49m\u001b[43m)\u001b[49m\u001b[38;5;241;43m.\u001b[39;49m\u001b[43mdrop\u001b[49m\u001b[43m(\u001b[49m\n\u001b[1;32m   5582\u001b[0m \u001b[43m        \u001b[49m\u001b[43mlabels\u001b[49m\u001b[38;5;241;43m=\u001b[39;49m\u001b[43mlabels\u001b[49m\u001b[43m,\u001b[49m\n\u001b[1;32m   5583\u001b[0m \u001b[43m        \u001b[49m\u001b[43maxis\u001b[49m\u001b[38;5;241;43m=\u001b[39;49m\u001b[43maxis\u001b[49m\u001b[43m,\u001b[49m\n\u001b[1;32m   5584\u001b[0m \u001b[43m        \u001b[49m\u001b[43mindex\u001b[49m\u001b[38;5;241;43m=\u001b[39;49m\u001b[43mindex\u001b[49m\u001b[43m,\u001b[49m\n\u001b[1;32m   5585\u001b[0m \u001b[43m        \u001b[49m\u001b[43mcolumns\u001b[49m\u001b[38;5;241;43m=\u001b[39;49m\u001b[43mcolumns\u001b[49m\u001b[43m,\u001b[49m\n\u001b[1;32m   5586\u001b[0m \u001b[43m        \u001b[49m\u001b[43mlevel\u001b[49m\u001b[38;5;241;43m=\u001b[39;49m\u001b[43mlevel\u001b[49m\u001b[43m,\u001b[49m\n\u001b[1;32m   5587\u001b[0m \u001b[43m        \u001b[49m\u001b[43minplace\u001b[49m\u001b[38;5;241;43m=\u001b[39;49m\u001b[43minplace\u001b[49m\u001b[43m,\u001b[49m\n\u001b[1;32m   5588\u001b[0m \u001b[43m        \u001b[49m\u001b[43merrors\u001b[49m\u001b[38;5;241;43m=\u001b[39;49m\u001b[43merrors\u001b[49m\u001b[43m,\u001b[49m\n\u001b[1;32m   5589\u001b[0m \u001b[43m    \u001b[49m\u001b[43m)\u001b[49m\n",
      "File \u001b[0;32m~/Database/venv/lib/python3.10/site-packages/pandas/core/generic.py:4788\u001b[0m, in \u001b[0;36mNDFrame.drop\u001b[0;34m(self, labels, axis, index, columns, level, inplace, errors)\u001b[0m\n\u001b[1;32m   4786\u001b[0m \u001b[38;5;28;01mfor\u001b[39;00m axis, labels \u001b[38;5;129;01min\u001b[39;00m axes\u001b[38;5;241m.\u001b[39mitems():\n\u001b[1;32m   4787\u001b[0m     \u001b[38;5;28;01mif\u001b[39;00m labels \u001b[38;5;129;01mis\u001b[39;00m \u001b[38;5;129;01mnot\u001b[39;00m \u001b[38;5;28;01mNone\u001b[39;00m:\n\u001b[0;32m-> 4788\u001b[0m         obj \u001b[38;5;241m=\u001b[39m \u001b[43mobj\u001b[49m\u001b[38;5;241;43m.\u001b[39;49m\u001b[43m_drop_axis\u001b[49m\u001b[43m(\u001b[49m\u001b[43mlabels\u001b[49m\u001b[43m,\u001b[49m\u001b[43m \u001b[49m\u001b[43maxis\u001b[49m\u001b[43m,\u001b[49m\u001b[43m \u001b[49m\u001b[43mlevel\u001b[49m\u001b[38;5;241;43m=\u001b[39;49m\u001b[43mlevel\u001b[49m\u001b[43m,\u001b[49m\u001b[43m \u001b[49m\u001b[43merrors\u001b[49m\u001b[38;5;241;43m=\u001b[39;49m\u001b[43merrors\u001b[49m\u001b[43m)\u001b[49m\n\u001b[1;32m   4790\u001b[0m \u001b[38;5;28;01mif\u001b[39;00m inplace:\n\u001b[1;32m   4791\u001b[0m     \u001b[38;5;28mself\u001b[39m\u001b[38;5;241m.\u001b[39m_update_inplace(obj)\n",
      "File \u001b[0;32m~/Database/venv/lib/python3.10/site-packages/pandas/core/generic.py:4830\u001b[0m, in \u001b[0;36mNDFrame._drop_axis\u001b[0;34m(self, labels, axis, level, errors, only_slice)\u001b[0m\n\u001b[1;32m   4828\u001b[0m         new_axis \u001b[38;5;241m=\u001b[39m axis\u001b[38;5;241m.\u001b[39mdrop(labels, level\u001b[38;5;241m=\u001b[39mlevel, errors\u001b[38;5;241m=\u001b[39merrors)\n\u001b[1;32m   4829\u001b[0m     \u001b[38;5;28;01melse\u001b[39;00m:\n\u001b[0;32m-> 4830\u001b[0m         new_axis \u001b[38;5;241m=\u001b[39m \u001b[43maxis\u001b[49m\u001b[38;5;241;43m.\u001b[39;49m\u001b[43mdrop\u001b[49m\u001b[43m(\u001b[49m\u001b[43mlabels\u001b[49m\u001b[43m,\u001b[49m\u001b[43m \u001b[49m\u001b[43merrors\u001b[49m\u001b[38;5;241;43m=\u001b[39;49m\u001b[43merrors\u001b[49m\u001b[43m)\u001b[49m\n\u001b[1;32m   4831\u001b[0m     indexer \u001b[38;5;241m=\u001b[39m axis\u001b[38;5;241m.\u001b[39mget_indexer(new_axis)\n\u001b[1;32m   4833\u001b[0m \u001b[38;5;66;03m# Case for non-unique axis\u001b[39;00m\n\u001b[1;32m   4834\u001b[0m \u001b[38;5;28;01melse\u001b[39;00m:\n",
      "File \u001b[0;32m~/Database/venv/lib/python3.10/site-packages/pandas/core/indexes/base.py:7070\u001b[0m, in \u001b[0;36mIndex.drop\u001b[0;34m(self, labels, errors)\u001b[0m\n\u001b[1;32m   7068\u001b[0m \u001b[38;5;28;01mif\u001b[39;00m mask\u001b[38;5;241m.\u001b[39many():\n\u001b[1;32m   7069\u001b[0m     \u001b[38;5;28;01mif\u001b[39;00m errors \u001b[38;5;241m!=\u001b[39m \u001b[38;5;124m\"\u001b[39m\u001b[38;5;124mignore\u001b[39m\u001b[38;5;124m\"\u001b[39m:\n\u001b[0;32m-> 7070\u001b[0m         \u001b[38;5;28;01mraise\u001b[39;00m \u001b[38;5;167;01mKeyError\u001b[39;00m(\u001b[38;5;124mf\u001b[39m\u001b[38;5;124m\"\u001b[39m\u001b[38;5;132;01m{\u001b[39;00mlabels[mask]\u001b[38;5;241m.\u001b[39mtolist()\u001b[38;5;132;01m}\u001b[39;00m\u001b[38;5;124m not found in axis\u001b[39m\u001b[38;5;124m\"\u001b[39m)\n\u001b[1;32m   7071\u001b[0m     indexer \u001b[38;5;241m=\u001b[39m indexer[\u001b[38;5;241m~\u001b[39mmask]\n\u001b[1;32m   7072\u001b[0m \u001b[38;5;28;01mreturn\u001b[39;00m \u001b[38;5;28mself\u001b[39m\u001b[38;5;241m.\u001b[39mdelete(indexer)\n",
      "\u001b[0;31mKeyError\u001b[0m: \"['Volume', 'Domain', '#RIC'] not found in axis\""
     ]
    }
   ],
   "source": [
    "df.drop(columns=[\"Volume\", \"Domain\", \"#RIC\"], axis=1, inplace=True)\n",
    "df.head()"
   ]
  },
  {
   "cell_type": "code",
   "execution_count": 11,
   "id": "70154459",
   "metadata": {},
   "outputs": [
    {
     "data": {
      "application/vnd.microsoft.datawrangler.viewer.v0+json": {
       "columns": [
        {
         "name": "index",
         "rawType": "int64",
         "type": "integer"
        },
        {
         "name": "Alias Underlying RIC",
         "rawType": "float64",
         "type": "float"
        },
        {
         "name": "Date-Time",
         "rawType": "object",
         "type": "string"
        },
        {
         "name": "GMT Offset",
         "rawType": "int64",
         "type": "integer"
        },
        {
         "name": "Type",
         "rawType": "object",
         "type": "string"
        },
        {
         "name": "Open",
         "rawType": "float64",
         "type": "float"
        },
        {
         "name": "High",
         "rawType": "float64",
         "type": "float"
        },
        {
         "name": "Low",
         "rawType": "float64",
         "type": "float"
        },
        {
         "name": "Last",
         "rawType": "float64",
         "type": "float"
        }
       ],
       "ref": "e37fe02b-d583-4d4f-b192-63ccd59072ae",
       "rows": [
        [
         "0",
         null,
         "2020-01-02T14:30:00.000000000Z",
         "-6",
         "Intraday 1Min",
         "3244.67",
         "3247.4",
         "3244.67",
         "3247.22"
        ],
        [
         "1",
         null,
         "2020-01-02T14:31:00.000000000Z",
         "-6",
         "Intraday 1Min",
         "3247.19",
         "3247.22",
         "3245.01",
         "3245.22"
        ],
        [
         "2",
         null,
         "2020-01-02T14:32:00.000000000Z",
         "-6",
         "Intraday 1Min",
         "3245.07",
         "3245.54",
         "3244.16",
         "3244.66"
        ],
        [
         "3",
         null,
         "2020-01-02T14:33:00.000000000Z",
         "-6",
         "Intraday 1Min",
         "3244.89",
         "3247.69",
         "3244.89",
         "3247.61"
        ],
        [
         "4",
         null,
         "2020-01-02T14:34:00.000000000Z",
         "-6",
         "Intraday 1Min",
         "3247.38",
         "3248.08",
         "3246.92",
         "3246.92"
        ]
       ],
       "shape": {
        "columns": 8,
        "rows": 5
       }
      },
      "text/html": [
       "<div>\n",
       "<style scoped>\n",
       "    .dataframe tbody tr th:only-of-type {\n",
       "        vertical-align: middle;\n",
       "    }\n",
       "\n",
       "    .dataframe tbody tr th {\n",
       "        vertical-align: top;\n",
       "    }\n",
       "\n",
       "    .dataframe thead th {\n",
       "        text-align: right;\n",
       "    }\n",
       "</style>\n",
       "<table border=\"1\" class=\"dataframe\">\n",
       "  <thead>\n",
       "    <tr style=\"text-align: right;\">\n",
       "      <th></th>\n",
       "      <th>Alias Underlying RIC</th>\n",
       "      <th>Date-Time</th>\n",
       "      <th>GMT Offset</th>\n",
       "      <th>Type</th>\n",
       "      <th>Open</th>\n",
       "      <th>High</th>\n",
       "      <th>Low</th>\n",
       "      <th>Last</th>\n",
       "    </tr>\n",
       "  </thead>\n",
       "  <tbody>\n",
       "    <tr>\n",
       "      <th>0</th>\n",
       "      <td>NaN</td>\n",
       "      <td>2020-01-02T14:30:00.000000000Z</td>\n",
       "      <td>-6</td>\n",
       "      <td>Intraday 1Min</td>\n",
       "      <td>3244.67</td>\n",
       "      <td>3247.40</td>\n",
       "      <td>3244.67</td>\n",
       "      <td>3247.22</td>\n",
       "    </tr>\n",
       "    <tr>\n",
       "      <th>1</th>\n",
       "      <td>NaN</td>\n",
       "      <td>2020-01-02T14:31:00.000000000Z</td>\n",
       "      <td>-6</td>\n",
       "      <td>Intraday 1Min</td>\n",
       "      <td>3247.19</td>\n",
       "      <td>3247.22</td>\n",
       "      <td>3245.01</td>\n",
       "      <td>3245.22</td>\n",
       "    </tr>\n",
       "    <tr>\n",
       "      <th>2</th>\n",
       "      <td>NaN</td>\n",
       "      <td>2020-01-02T14:32:00.000000000Z</td>\n",
       "      <td>-6</td>\n",
       "      <td>Intraday 1Min</td>\n",
       "      <td>3245.07</td>\n",
       "      <td>3245.54</td>\n",
       "      <td>3244.16</td>\n",
       "      <td>3244.66</td>\n",
       "    </tr>\n",
       "    <tr>\n",
       "      <th>3</th>\n",
       "      <td>NaN</td>\n",
       "      <td>2020-01-02T14:33:00.000000000Z</td>\n",
       "      <td>-6</td>\n",
       "      <td>Intraday 1Min</td>\n",
       "      <td>3244.89</td>\n",
       "      <td>3247.69</td>\n",
       "      <td>3244.89</td>\n",
       "      <td>3247.61</td>\n",
       "    </tr>\n",
       "    <tr>\n",
       "      <th>4</th>\n",
       "      <td>NaN</td>\n",
       "      <td>2020-01-02T14:34:00.000000000Z</td>\n",
       "      <td>-6</td>\n",
       "      <td>Intraday 1Min</td>\n",
       "      <td>3247.38</td>\n",
       "      <td>3248.08</td>\n",
       "      <td>3246.92</td>\n",
       "      <td>3246.92</td>\n",
       "    </tr>\n",
       "  </tbody>\n",
       "</table>\n",
       "</div>"
      ],
      "text/plain": [
       "   Alias Underlying RIC                       Date-Time  GMT Offset  \\\n",
       "0                   NaN  2020-01-02T14:30:00.000000000Z          -6   \n",
       "1                   NaN  2020-01-02T14:31:00.000000000Z          -6   \n",
       "2                   NaN  2020-01-02T14:32:00.000000000Z          -6   \n",
       "3                   NaN  2020-01-02T14:33:00.000000000Z          -6   \n",
       "4                   NaN  2020-01-02T14:34:00.000000000Z          -6   \n",
       "\n",
       "            Type     Open     High      Low     Last  \n",
       "0  Intraday 1Min  3244.67  3247.40  3244.67  3247.22  \n",
       "1  Intraday 1Min  3247.19  3247.22  3245.01  3245.22  \n",
       "2  Intraday 1Min  3245.07  3245.54  3244.16  3244.66  \n",
       "3  Intraday 1Min  3244.89  3247.69  3244.89  3247.61  \n",
       "4  Intraday 1Min  3247.38  3248.08  3246.92  3246.92  "
      ]
     },
     "execution_count": 11,
     "metadata": {},
     "output_type": "execute_result"
    }
   ],
   "source": [
    "df.head()"
   ]
  },
  {
   "cell_type": "code",
   "execution_count": 12,
   "id": "380308aa",
   "metadata": {},
   "outputs": [],
   "source": [
    "df.drop(columns=[\"Alias Underlying RIC\", \"GMT Offset\", \"Type\"], axis=1, inplace=True)"
   ]
  },
  {
   "cell_type": "code",
   "execution_count": 13,
   "id": "cb0240c8",
   "metadata": {},
   "outputs": [],
   "source": [
    "df[\"Close\"] = df[\"Last\"]"
   ]
  },
  {
   "cell_type": "code",
   "execution_count": 14,
   "id": "8b725759",
   "metadata": {},
   "outputs": [
    {
     "data": {
      "application/vnd.microsoft.datawrangler.viewer.v0+json": {
       "columns": [
        {
         "name": "index",
         "rawType": "int64",
         "type": "integer"
        },
        {
         "name": "Date-Time",
         "rawType": "object",
         "type": "string"
        },
        {
         "name": "Open",
         "rawType": "float64",
         "type": "float"
        },
        {
         "name": "High",
         "rawType": "float64",
         "type": "float"
        },
        {
         "name": "Low",
         "rawType": "float64",
         "type": "float"
        },
        {
         "name": "Close",
         "rawType": "float64",
         "type": "float"
        }
       ],
       "ref": "30ac42db-5deb-4b3f-bcff-d60ce23435e7",
       "rows": [
        [
         "0",
         "2020-01-02T14:30:00.000000000Z",
         "3244.67",
         "3247.4",
         "3244.67",
         "3247.22"
        ],
        [
         "1",
         "2020-01-02T14:31:00.000000000Z",
         "3247.19",
         "3247.22",
         "3245.01",
         "3245.22"
        ],
        [
         "2",
         "2020-01-02T14:32:00.000000000Z",
         "3245.07",
         "3245.54",
         "3244.16",
         "3244.66"
        ],
        [
         "3",
         "2020-01-02T14:33:00.000000000Z",
         "3244.89",
         "3247.69",
         "3244.89",
         "3247.61"
        ],
        [
         "4",
         "2020-01-02T14:34:00.000000000Z",
         "3247.38",
         "3248.08",
         "3246.92",
         "3246.92"
        ]
       ],
       "shape": {
        "columns": 5,
        "rows": 5
       }
      },
      "text/html": [
       "<div>\n",
       "<style scoped>\n",
       "    .dataframe tbody tr th:only-of-type {\n",
       "        vertical-align: middle;\n",
       "    }\n",
       "\n",
       "    .dataframe tbody tr th {\n",
       "        vertical-align: top;\n",
       "    }\n",
       "\n",
       "    .dataframe thead th {\n",
       "        text-align: right;\n",
       "    }\n",
       "</style>\n",
       "<table border=\"1\" class=\"dataframe\">\n",
       "  <thead>\n",
       "    <tr style=\"text-align: right;\">\n",
       "      <th></th>\n",
       "      <th>Date-Time</th>\n",
       "      <th>Open</th>\n",
       "      <th>High</th>\n",
       "      <th>Low</th>\n",
       "      <th>Close</th>\n",
       "    </tr>\n",
       "  </thead>\n",
       "  <tbody>\n",
       "    <tr>\n",
       "      <th>0</th>\n",
       "      <td>2020-01-02T14:30:00.000000000Z</td>\n",
       "      <td>3244.67</td>\n",
       "      <td>3247.40</td>\n",
       "      <td>3244.67</td>\n",
       "      <td>3247.22</td>\n",
       "    </tr>\n",
       "    <tr>\n",
       "      <th>1</th>\n",
       "      <td>2020-01-02T14:31:00.000000000Z</td>\n",
       "      <td>3247.19</td>\n",
       "      <td>3247.22</td>\n",
       "      <td>3245.01</td>\n",
       "      <td>3245.22</td>\n",
       "    </tr>\n",
       "    <tr>\n",
       "      <th>2</th>\n",
       "      <td>2020-01-02T14:32:00.000000000Z</td>\n",
       "      <td>3245.07</td>\n",
       "      <td>3245.54</td>\n",
       "      <td>3244.16</td>\n",
       "      <td>3244.66</td>\n",
       "    </tr>\n",
       "    <tr>\n",
       "      <th>3</th>\n",
       "      <td>2020-01-02T14:33:00.000000000Z</td>\n",
       "      <td>3244.89</td>\n",
       "      <td>3247.69</td>\n",
       "      <td>3244.89</td>\n",
       "      <td>3247.61</td>\n",
       "    </tr>\n",
       "    <tr>\n",
       "      <th>4</th>\n",
       "      <td>2020-01-02T14:34:00.000000000Z</td>\n",
       "      <td>3247.38</td>\n",
       "      <td>3248.08</td>\n",
       "      <td>3246.92</td>\n",
       "      <td>3246.92</td>\n",
       "    </tr>\n",
       "  </tbody>\n",
       "</table>\n",
       "</div>"
      ],
      "text/plain": [
       "                        Date-Time     Open     High      Low    Close\n",
       "0  2020-01-02T14:30:00.000000000Z  3244.67  3247.40  3244.67  3247.22\n",
       "1  2020-01-02T14:31:00.000000000Z  3247.19  3247.22  3245.01  3245.22\n",
       "2  2020-01-02T14:32:00.000000000Z  3245.07  3245.54  3244.16  3244.66\n",
       "3  2020-01-02T14:33:00.000000000Z  3244.89  3247.69  3244.89  3247.61\n",
       "4  2020-01-02T14:34:00.000000000Z  3247.38  3248.08  3246.92  3246.92"
      ]
     },
     "execution_count": 14,
     "metadata": {},
     "output_type": "execute_result"
    }
   ],
   "source": [
    "df.drop(columns=[\"Last\"], axis=1, inplace=True)\n",
    "df.head()"
   ]
  },
  {
   "cell_type": "code",
   "execution_count": 15,
   "id": "535f6912",
   "metadata": {},
   "outputs": [
    {
     "data": {
      "text/plain": [
       "(558163, 5)"
      ]
     },
     "execution_count": 15,
     "metadata": {},
     "output_type": "execute_result"
    }
   ],
   "source": [
    "df.shape"
   ]
  },
  {
   "cell_type": "code",
   "execution_count": 16,
   "id": "02135a8c",
   "metadata": {},
   "outputs": [
    {
     "data": {
      "application/vnd.microsoft.datawrangler.viewer.v0+json": {
       "columns": [
        {
         "name": "index",
         "rawType": "int64",
         "type": "integer"
        },
        {
         "name": "Date-Time",
         "rawType": "object",
         "type": "string"
        },
        {
         "name": "Open",
         "rawType": "float64",
         "type": "float"
        },
        {
         "name": "High",
         "rawType": "float64",
         "type": "float"
        },
        {
         "name": "Low",
         "rawType": "float64",
         "type": "float"
        },
        {
         "name": "Close",
         "rawType": "float64",
         "type": "float"
        }
       ],
       "ref": "28c08405-e6b5-42a5-9edd-52807e43266a",
       "rows": [
        [
         "558158",
         "2025-05-19T23:30:00.000000000Z",
         "5963.6044",
         "5963.6044",
         "5963.6044",
         "5963.6044"
        ],
        [
         "558159",
         "2025-05-20T21:40:00.000000000Z",
         "5940.4637",
         "5940.4637",
         "5940.4637",
         "5940.4637"
        ],
        [
         "558160",
         "2025-05-20T22:10:00.000000000Z",
         "5940.4637",
         "5940.4637",
         "5940.4637",
         "5940.4637"
        ],
        [
         "558161",
         "2025-05-20T22:20:00.000000000Z",
         "5940.4637",
         "5940.4637",
         "5940.4637",
         "5940.4637"
        ],
        [
         "558162",
         "2025-05-20T23:10:00.000000000Z",
         "5940.4637",
         "5940.4637",
         "5940.4637",
         "5940.4637"
        ]
       ],
       "shape": {
        "columns": 5,
        "rows": 5
       }
      },
      "text/html": [
       "<div>\n",
       "<style scoped>\n",
       "    .dataframe tbody tr th:only-of-type {\n",
       "        vertical-align: middle;\n",
       "    }\n",
       "\n",
       "    .dataframe tbody tr th {\n",
       "        vertical-align: top;\n",
       "    }\n",
       "\n",
       "    .dataframe thead th {\n",
       "        text-align: right;\n",
       "    }\n",
       "</style>\n",
       "<table border=\"1\" class=\"dataframe\">\n",
       "  <thead>\n",
       "    <tr style=\"text-align: right;\">\n",
       "      <th></th>\n",
       "      <th>Date-Time</th>\n",
       "      <th>Open</th>\n",
       "      <th>High</th>\n",
       "      <th>Low</th>\n",
       "      <th>Close</th>\n",
       "    </tr>\n",
       "  </thead>\n",
       "  <tbody>\n",
       "    <tr>\n",
       "      <th>558158</th>\n",
       "      <td>2025-05-19T23:30:00.000000000Z</td>\n",
       "      <td>5963.6044</td>\n",
       "      <td>5963.6044</td>\n",
       "      <td>5963.6044</td>\n",
       "      <td>5963.6044</td>\n",
       "    </tr>\n",
       "    <tr>\n",
       "      <th>558159</th>\n",
       "      <td>2025-05-20T21:40:00.000000000Z</td>\n",
       "      <td>5940.4637</td>\n",
       "      <td>5940.4637</td>\n",
       "      <td>5940.4637</td>\n",
       "      <td>5940.4637</td>\n",
       "    </tr>\n",
       "    <tr>\n",
       "      <th>558160</th>\n",
       "      <td>2025-05-20T22:10:00.000000000Z</td>\n",
       "      <td>5940.4637</td>\n",
       "      <td>5940.4637</td>\n",
       "      <td>5940.4637</td>\n",
       "      <td>5940.4637</td>\n",
       "    </tr>\n",
       "    <tr>\n",
       "      <th>558161</th>\n",
       "      <td>2025-05-20T22:20:00.000000000Z</td>\n",
       "      <td>5940.4637</td>\n",
       "      <td>5940.4637</td>\n",
       "      <td>5940.4637</td>\n",
       "      <td>5940.4637</td>\n",
       "    </tr>\n",
       "    <tr>\n",
       "      <th>558162</th>\n",
       "      <td>2025-05-20T23:10:00.000000000Z</td>\n",
       "      <td>5940.4637</td>\n",
       "      <td>5940.4637</td>\n",
       "      <td>5940.4637</td>\n",
       "      <td>5940.4637</td>\n",
       "    </tr>\n",
       "  </tbody>\n",
       "</table>\n",
       "</div>"
      ],
      "text/plain": [
       "                             Date-Time       Open       High        Low  \\\n",
       "558158  2025-05-19T23:30:00.000000000Z  5963.6044  5963.6044  5963.6044   \n",
       "558159  2025-05-20T21:40:00.000000000Z  5940.4637  5940.4637  5940.4637   \n",
       "558160  2025-05-20T22:10:00.000000000Z  5940.4637  5940.4637  5940.4637   \n",
       "558161  2025-05-20T22:20:00.000000000Z  5940.4637  5940.4637  5940.4637   \n",
       "558162  2025-05-20T23:10:00.000000000Z  5940.4637  5940.4637  5940.4637   \n",
       "\n",
       "            Close  \n",
       "558158  5963.6044  \n",
       "558159  5940.4637  \n",
       "558160  5940.4637  \n",
       "558161  5940.4637  \n",
       "558162  5940.4637  "
      ]
     },
     "execution_count": 16,
     "metadata": {},
     "output_type": "execute_result"
    }
   ],
   "source": [
    "df.tail()"
   ]
  },
  {
   "cell_type": "code",
   "execution_count": 17,
   "id": "3efcfdb9",
   "metadata": {},
   "outputs": [],
   "source": [
    "df.to_parquet(\"cold_storage/CBOE/Index/SPX/CBOE_Index_SPX.parquet\")"
   ]
  },
  {
   "cell_type": "code",
   "execution_count": null,
   "id": "30ed3fba",
   "metadata": {},
   "outputs": [],
   "source": [
    "df.to_parquet(\"cold_storage/CBOE/Index/SPX/CBOE_Index_SPX.parquet\")"
   ]
  },
  {
   "cell_type": "code",
   "execution_count": 3,
   "id": "49a6023a",
   "metadata": {},
   "outputs": [],
   "source": [
    "df = pd.read_parquet(\"cold_storage/CBOE/Index/SPX/CBOE_Index_SPX.parquet\")"
   ]
  },
  {
   "cell_type": "code",
   "execution_count": 6,
   "id": "7e424119",
   "metadata": {},
   "outputs": [],
   "source": [
    "df['o'] = df['Open']\n",
    "df['h'] = df['High']\n",
    "df['l'] = df['Low']\n",
    "df['c'] = df['Close']\n",
    "df['timestamp'] = df['Date-Time']"
   ]
  },
  {
   "cell_type": "code",
   "execution_count": 7,
   "id": "5afaba0a",
   "metadata": {},
   "outputs": [
    {
     "data": {
      "application/vnd.microsoft.datawrangler.viewer.v0+json": {
       "columns": [
        {
         "name": "index",
         "rawType": "int64",
         "type": "integer"
        },
        {
         "name": "Date-Time",
         "rawType": "object",
         "type": "string"
        },
        {
         "name": "Open",
         "rawType": "float64",
         "type": "float"
        },
        {
         "name": "High",
         "rawType": "float64",
         "type": "float"
        },
        {
         "name": "Low",
         "rawType": "float64",
         "type": "float"
        },
        {
         "name": "Close",
         "rawType": "float64",
         "type": "float"
        },
        {
         "name": "o",
         "rawType": "float64",
         "type": "float"
        },
        {
         "name": "h",
         "rawType": "float64",
         "type": "float"
        },
        {
         "name": "l",
         "rawType": "float64",
         "type": "float"
        },
        {
         "name": "c",
         "rawType": "float64",
         "type": "float"
        },
        {
         "name": "timestamp",
         "rawType": "object",
         "type": "string"
        }
       ],
       "ref": "96605e73-a55e-4778-82c4-c67f68114d4b",
       "rows": [
        [
         "0",
         "2020-01-02T14:30:00.000000000Z",
         "3244.67",
         "3247.4",
         "3244.67",
         "3247.22",
         "3244.67",
         "3247.4",
         "3244.67",
         "3247.22",
         "2020-01-02T14:30:00.000000000Z"
        ],
        [
         "1",
         "2020-01-02T14:31:00.000000000Z",
         "3247.19",
         "3247.22",
         "3245.01",
         "3245.22",
         "3247.19",
         "3247.22",
         "3245.01",
         "3245.22",
         "2020-01-02T14:31:00.000000000Z"
        ],
        [
         "2",
         "2020-01-02T14:32:00.000000000Z",
         "3245.07",
         "3245.54",
         "3244.16",
         "3244.66",
         "3245.07",
         "3245.54",
         "3244.16",
         "3244.66",
         "2020-01-02T14:32:00.000000000Z"
        ],
        [
         "3",
         "2020-01-02T14:33:00.000000000Z",
         "3244.89",
         "3247.69",
         "3244.89",
         "3247.61",
         "3244.89",
         "3247.69",
         "3244.89",
         "3247.61",
         "2020-01-02T14:33:00.000000000Z"
        ],
        [
         "4",
         "2020-01-02T14:34:00.000000000Z",
         "3247.38",
         "3248.08",
         "3246.92",
         "3246.92",
         "3247.38",
         "3248.08",
         "3246.92",
         "3246.92",
         "2020-01-02T14:34:00.000000000Z"
        ]
       ],
       "shape": {
        "columns": 10,
        "rows": 5
       }
      },
      "text/html": [
       "<div>\n",
       "<style scoped>\n",
       "    .dataframe tbody tr th:only-of-type {\n",
       "        vertical-align: middle;\n",
       "    }\n",
       "\n",
       "    .dataframe tbody tr th {\n",
       "        vertical-align: top;\n",
       "    }\n",
       "\n",
       "    .dataframe thead th {\n",
       "        text-align: right;\n",
       "    }\n",
       "</style>\n",
       "<table border=\"1\" class=\"dataframe\">\n",
       "  <thead>\n",
       "    <tr style=\"text-align: right;\">\n",
       "      <th></th>\n",
       "      <th>Date-Time</th>\n",
       "      <th>Open</th>\n",
       "      <th>High</th>\n",
       "      <th>Low</th>\n",
       "      <th>Close</th>\n",
       "      <th>o</th>\n",
       "      <th>h</th>\n",
       "      <th>l</th>\n",
       "      <th>c</th>\n",
       "      <th>timestamp</th>\n",
       "    </tr>\n",
       "  </thead>\n",
       "  <tbody>\n",
       "    <tr>\n",
       "      <th>0</th>\n",
       "      <td>2020-01-02T14:30:00.000000000Z</td>\n",
       "      <td>3244.67</td>\n",
       "      <td>3247.40</td>\n",
       "      <td>3244.67</td>\n",
       "      <td>3247.22</td>\n",
       "      <td>3244.67</td>\n",
       "      <td>3247.40</td>\n",
       "      <td>3244.67</td>\n",
       "      <td>3247.22</td>\n",
       "      <td>2020-01-02T14:30:00.000000000Z</td>\n",
       "    </tr>\n",
       "    <tr>\n",
       "      <th>1</th>\n",
       "      <td>2020-01-02T14:31:00.000000000Z</td>\n",
       "      <td>3247.19</td>\n",
       "      <td>3247.22</td>\n",
       "      <td>3245.01</td>\n",
       "      <td>3245.22</td>\n",
       "      <td>3247.19</td>\n",
       "      <td>3247.22</td>\n",
       "      <td>3245.01</td>\n",
       "      <td>3245.22</td>\n",
       "      <td>2020-01-02T14:31:00.000000000Z</td>\n",
       "    </tr>\n",
       "    <tr>\n",
       "      <th>2</th>\n",
       "      <td>2020-01-02T14:32:00.000000000Z</td>\n",
       "      <td>3245.07</td>\n",
       "      <td>3245.54</td>\n",
       "      <td>3244.16</td>\n",
       "      <td>3244.66</td>\n",
       "      <td>3245.07</td>\n",
       "      <td>3245.54</td>\n",
       "      <td>3244.16</td>\n",
       "      <td>3244.66</td>\n",
       "      <td>2020-01-02T14:32:00.000000000Z</td>\n",
       "    </tr>\n",
       "    <tr>\n",
       "      <th>3</th>\n",
       "      <td>2020-01-02T14:33:00.000000000Z</td>\n",
       "      <td>3244.89</td>\n",
       "      <td>3247.69</td>\n",
       "      <td>3244.89</td>\n",
       "      <td>3247.61</td>\n",
       "      <td>3244.89</td>\n",
       "      <td>3247.69</td>\n",
       "      <td>3244.89</td>\n",
       "      <td>3247.61</td>\n",
       "      <td>2020-01-02T14:33:00.000000000Z</td>\n",
       "    </tr>\n",
       "    <tr>\n",
       "      <th>4</th>\n",
       "      <td>2020-01-02T14:34:00.000000000Z</td>\n",
       "      <td>3247.38</td>\n",
       "      <td>3248.08</td>\n",
       "      <td>3246.92</td>\n",
       "      <td>3246.92</td>\n",
       "      <td>3247.38</td>\n",
       "      <td>3248.08</td>\n",
       "      <td>3246.92</td>\n",
       "      <td>3246.92</td>\n",
       "      <td>2020-01-02T14:34:00.000000000Z</td>\n",
       "    </tr>\n",
       "  </tbody>\n",
       "</table>\n",
       "</div>"
      ],
      "text/plain": [
       "                        Date-Time     Open     High      Low    Close  \\\n",
       "0  2020-01-02T14:30:00.000000000Z  3244.67  3247.40  3244.67  3247.22   \n",
       "1  2020-01-02T14:31:00.000000000Z  3247.19  3247.22  3245.01  3245.22   \n",
       "2  2020-01-02T14:32:00.000000000Z  3245.07  3245.54  3244.16  3244.66   \n",
       "3  2020-01-02T14:33:00.000000000Z  3244.89  3247.69  3244.89  3247.61   \n",
       "4  2020-01-02T14:34:00.000000000Z  3247.38  3248.08  3246.92  3246.92   \n",
       "\n",
       "         o        h        l        c                       timestamp  \n",
       "0  3244.67  3247.40  3244.67  3247.22  2020-01-02T14:30:00.000000000Z  \n",
       "1  3247.19  3247.22  3245.01  3245.22  2020-01-02T14:31:00.000000000Z  \n",
       "2  3245.07  3245.54  3244.16  3244.66  2020-01-02T14:32:00.000000000Z  \n",
       "3  3244.89  3247.69  3244.89  3247.61  2020-01-02T14:33:00.000000000Z  \n",
       "4  3247.38  3248.08  3246.92  3246.92  2020-01-02T14:34:00.000000000Z  "
      ]
     },
     "execution_count": 7,
     "metadata": {},
     "output_type": "execute_result"
    }
   ],
   "source": [
    "df.head()"
   ]
  },
  {
   "cell_type": "code",
   "execution_count": 8,
   "id": "ac3e7cc8",
   "metadata": {},
   "outputs": [
    {
     "data": {
      "application/vnd.microsoft.datawrangler.viewer.v0+json": {
       "columns": [
        {
         "name": "index",
         "rawType": "int64",
         "type": "integer"
        },
        {
         "name": "Date-Time",
         "rawType": "object",
         "type": "string"
        },
        {
         "name": "o",
         "rawType": "float64",
         "type": "float"
        },
        {
         "name": "h",
         "rawType": "float64",
         "type": "float"
        },
        {
         "name": "l",
         "rawType": "float64",
         "type": "float"
        },
        {
         "name": "c",
         "rawType": "float64",
         "type": "float"
        },
        {
         "name": "timestamp",
         "rawType": "object",
         "type": "string"
        }
       ],
       "ref": "4906df0d-9b70-42ae-a94a-040fc7882a86",
       "rows": [
        [
         "0",
         "2020-01-02T14:30:00.000000000Z",
         "3244.67",
         "3247.4",
         "3244.67",
         "3247.22",
         "2020-01-02T14:30:00.000000000Z"
        ],
        [
         "1",
         "2020-01-02T14:31:00.000000000Z",
         "3247.19",
         "3247.22",
         "3245.01",
         "3245.22",
         "2020-01-02T14:31:00.000000000Z"
        ],
        [
         "2",
         "2020-01-02T14:32:00.000000000Z",
         "3245.07",
         "3245.54",
         "3244.16",
         "3244.66",
         "2020-01-02T14:32:00.000000000Z"
        ],
        [
         "3",
         "2020-01-02T14:33:00.000000000Z",
         "3244.89",
         "3247.69",
         "3244.89",
         "3247.61",
         "2020-01-02T14:33:00.000000000Z"
        ],
        [
         "4",
         "2020-01-02T14:34:00.000000000Z",
         "3247.38",
         "3248.08",
         "3246.92",
         "3246.92",
         "2020-01-02T14:34:00.000000000Z"
        ]
       ],
       "shape": {
        "columns": 6,
        "rows": 5
       }
      },
      "text/html": [
       "<div>\n",
       "<style scoped>\n",
       "    .dataframe tbody tr th:only-of-type {\n",
       "        vertical-align: middle;\n",
       "    }\n",
       "\n",
       "    .dataframe tbody tr th {\n",
       "        vertical-align: top;\n",
       "    }\n",
       "\n",
       "    .dataframe thead th {\n",
       "        text-align: right;\n",
       "    }\n",
       "</style>\n",
       "<table border=\"1\" class=\"dataframe\">\n",
       "  <thead>\n",
       "    <tr style=\"text-align: right;\">\n",
       "      <th></th>\n",
       "      <th>Date-Time</th>\n",
       "      <th>o</th>\n",
       "      <th>h</th>\n",
       "      <th>l</th>\n",
       "      <th>c</th>\n",
       "      <th>timestamp</th>\n",
       "    </tr>\n",
       "  </thead>\n",
       "  <tbody>\n",
       "    <tr>\n",
       "      <th>0</th>\n",
       "      <td>2020-01-02T14:30:00.000000000Z</td>\n",
       "      <td>3244.67</td>\n",
       "      <td>3247.40</td>\n",
       "      <td>3244.67</td>\n",
       "      <td>3247.22</td>\n",
       "      <td>2020-01-02T14:30:00.000000000Z</td>\n",
       "    </tr>\n",
       "    <tr>\n",
       "      <th>1</th>\n",
       "      <td>2020-01-02T14:31:00.000000000Z</td>\n",
       "      <td>3247.19</td>\n",
       "      <td>3247.22</td>\n",
       "      <td>3245.01</td>\n",
       "      <td>3245.22</td>\n",
       "      <td>2020-01-02T14:31:00.000000000Z</td>\n",
       "    </tr>\n",
       "    <tr>\n",
       "      <th>2</th>\n",
       "      <td>2020-01-02T14:32:00.000000000Z</td>\n",
       "      <td>3245.07</td>\n",
       "      <td>3245.54</td>\n",
       "      <td>3244.16</td>\n",
       "      <td>3244.66</td>\n",
       "      <td>2020-01-02T14:32:00.000000000Z</td>\n",
       "    </tr>\n",
       "    <tr>\n",
       "      <th>3</th>\n",
       "      <td>2020-01-02T14:33:00.000000000Z</td>\n",
       "      <td>3244.89</td>\n",
       "      <td>3247.69</td>\n",
       "      <td>3244.89</td>\n",
       "      <td>3247.61</td>\n",
       "      <td>2020-01-02T14:33:00.000000000Z</td>\n",
       "    </tr>\n",
       "    <tr>\n",
       "      <th>4</th>\n",
       "      <td>2020-01-02T14:34:00.000000000Z</td>\n",
       "      <td>3247.38</td>\n",
       "      <td>3248.08</td>\n",
       "      <td>3246.92</td>\n",
       "      <td>3246.92</td>\n",
       "      <td>2020-01-02T14:34:00.000000000Z</td>\n",
       "    </tr>\n",
       "  </tbody>\n",
       "</table>\n",
       "</div>"
      ],
      "text/plain": [
       "                        Date-Time        o        h        l        c  \\\n",
       "0  2020-01-02T14:30:00.000000000Z  3244.67  3247.40  3244.67  3247.22   \n",
       "1  2020-01-02T14:31:00.000000000Z  3247.19  3247.22  3245.01  3245.22   \n",
       "2  2020-01-02T14:32:00.000000000Z  3245.07  3245.54  3244.16  3244.66   \n",
       "3  2020-01-02T14:33:00.000000000Z  3244.89  3247.69  3244.89  3247.61   \n",
       "4  2020-01-02T14:34:00.000000000Z  3247.38  3248.08  3246.92  3246.92   \n",
       "\n",
       "                        timestamp  \n",
       "0  2020-01-02T14:30:00.000000000Z  \n",
       "1  2020-01-02T14:31:00.000000000Z  \n",
       "2  2020-01-02T14:32:00.000000000Z  \n",
       "3  2020-01-02T14:33:00.000000000Z  \n",
       "4  2020-01-02T14:34:00.000000000Z  "
      ]
     },
     "execution_count": 8,
     "metadata": {},
     "output_type": "execute_result"
    }
   ],
   "source": [
    "df.drop(columns=[\"Open\", \"High\", \"Low\", \"Close\"], axis=1, inplace=True)\n",
    "df.head()"
   ]
  },
  {
   "cell_type": "code",
   "execution_count": 9,
   "id": "e2ef2973",
   "metadata": {},
   "outputs": [
    {
     "data": {
      "application/vnd.microsoft.datawrangler.viewer.v0+json": {
       "columns": [
        {
         "name": "index",
         "rawType": "int64",
         "type": "integer"
        },
        {
         "name": "o",
         "rawType": "float64",
         "type": "float"
        },
        {
         "name": "h",
         "rawType": "float64",
         "type": "float"
        },
        {
         "name": "l",
         "rawType": "float64",
         "type": "float"
        },
        {
         "name": "c",
         "rawType": "float64",
         "type": "float"
        },
        {
         "name": "timestamp",
         "rawType": "object",
         "type": "string"
        }
       ],
       "ref": "52af1cf9-842c-435a-85f0-cf786d8587b2",
       "rows": [
        [
         "0",
         "3244.67",
         "3247.4",
         "3244.67",
         "3247.22",
         "2020-01-02T14:30:00.000000000Z"
        ],
        [
         "1",
         "3247.19",
         "3247.22",
         "3245.01",
         "3245.22",
         "2020-01-02T14:31:00.000000000Z"
        ],
        [
         "2",
         "3245.07",
         "3245.54",
         "3244.16",
         "3244.66",
         "2020-01-02T14:32:00.000000000Z"
        ],
        [
         "3",
         "3244.89",
         "3247.69",
         "3244.89",
         "3247.61",
         "2020-01-02T14:33:00.000000000Z"
        ],
        [
         "4",
         "3247.38",
         "3248.08",
         "3246.92",
         "3246.92",
         "2020-01-02T14:34:00.000000000Z"
        ]
       ],
       "shape": {
        "columns": 5,
        "rows": 5
       }
      },
      "text/html": [
       "<div>\n",
       "<style scoped>\n",
       "    .dataframe tbody tr th:only-of-type {\n",
       "        vertical-align: middle;\n",
       "    }\n",
       "\n",
       "    .dataframe tbody tr th {\n",
       "        vertical-align: top;\n",
       "    }\n",
       "\n",
       "    .dataframe thead th {\n",
       "        text-align: right;\n",
       "    }\n",
       "</style>\n",
       "<table border=\"1\" class=\"dataframe\">\n",
       "  <thead>\n",
       "    <tr style=\"text-align: right;\">\n",
       "      <th></th>\n",
       "      <th>o</th>\n",
       "      <th>h</th>\n",
       "      <th>l</th>\n",
       "      <th>c</th>\n",
       "      <th>timestamp</th>\n",
       "    </tr>\n",
       "  </thead>\n",
       "  <tbody>\n",
       "    <tr>\n",
       "      <th>0</th>\n",
       "      <td>3244.67</td>\n",
       "      <td>3247.40</td>\n",
       "      <td>3244.67</td>\n",
       "      <td>3247.22</td>\n",
       "      <td>2020-01-02T14:30:00.000000000Z</td>\n",
       "    </tr>\n",
       "    <tr>\n",
       "      <th>1</th>\n",
       "      <td>3247.19</td>\n",
       "      <td>3247.22</td>\n",
       "      <td>3245.01</td>\n",
       "      <td>3245.22</td>\n",
       "      <td>2020-01-02T14:31:00.000000000Z</td>\n",
       "    </tr>\n",
       "    <tr>\n",
       "      <th>2</th>\n",
       "      <td>3245.07</td>\n",
       "      <td>3245.54</td>\n",
       "      <td>3244.16</td>\n",
       "      <td>3244.66</td>\n",
       "      <td>2020-01-02T14:32:00.000000000Z</td>\n",
       "    </tr>\n",
       "    <tr>\n",
       "      <th>3</th>\n",
       "      <td>3244.89</td>\n",
       "      <td>3247.69</td>\n",
       "      <td>3244.89</td>\n",
       "      <td>3247.61</td>\n",
       "      <td>2020-01-02T14:33:00.000000000Z</td>\n",
       "    </tr>\n",
       "    <tr>\n",
       "      <th>4</th>\n",
       "      <td>3247.38</td>\n",
       "      <td>3248.08</td>\n",
       "      <td>3246.92</td>\n",
       "      <td>3246.92</td>\n",
       "      <td>2020-01-02T14:34:00.000000000Z</td>\n",
       "    </tr>\n",
       "  </tbody>\n",
       "</table>\n",
       "</div>"
      ],
      "text/plain": [
       "         o        h        l        c                       timestamp\n",
       "0  3244.67  3247.40  3244.67  3247.22  2020-01-02T14:30:00.000000000Z\n",
       "1  3247.19  3247.22  3245.01  3245.22  2020-01-02T14:31:00.000000000Z\n",
       "2  3245.07  3245.54  3244.16  3244.66  2020-01-02T14:32:00.000000000Z\n",
       "3  3244.89  3247.69  3244.89  3247.61  2020-01-02T14:33:00.000000000Z\n",
       "4  3247.38  3248.08  3246.92  3246.92  2020-01-02T14:34:00.000000000Z"
      ]
     },
     "execution_count": 9,
     "metadata": {},
     "output_type": "execute_result"
    }
   ],
   "source": [
    "df.drop(columns=[\"Date-Time\"], axis=1, inplace=True)\n",
    "df.head()"
   ]
  },
  {
   "cell_type": "code",
   "execution_count": 10,
   "id": "b8e4f3e2",
   "metadata": {},
   "outputs": [],
   "source": [
    "df.to_parquet(\"cold_storage/CBOE/Index/SPX/CBOE_Index_SPX.parquet\")"
   ]
  },
  {
   "cell_type": "code",
   "execution_count": 11,
   "id": "c9486132",
   "metadata": {},
   "outputs": [],
   "source": [
    "df = pd.read_pickle(\"cold_storage/NSE Main Pickle.pkl\")"
   ]
  },
  {
   "cell_type": "code",
   "execution_count": 12,
   "id": "f095e634",
   "metadata": {},
   "outputs": [
    {
     "data": {
      "application/vnd.microsoft.datawrangler.viewer.v0+json": {
       "columns": [
        {
         "name": "index",
         "rawType": "int64",
         "type": "integer"
        },
        {
         "name": "Date",
         "rawType": "object",
         "type": "unknown"
        },
        {
         "name": "Open (Unit Curr)",
         "rawType": "object",
         "type": "unknown"
        },
        {
         "name": "High (Unit Curr)",
         "rawType": "object",
         "type": "unknown"
        },
        {
         "name": "Low (Unit Curr)",
         "rawType": "object",
         "type": "unknown"
        },
        {
         "name": "Close (Unit Curr)",
         "rawType": "object",
         "type": "unknown"
        },
        {
         "name": "Volume (000's)",
         "rawType": "object",
         "type": "unknown"
        },
        {
         "name": "No of Trades",
         "rawType": "object",
         "type": "unknown"
        },
        {
         "name": "Value",
         "rawType": "object",
         "type": "unknown"
        },
        {
         "name": "Market Cap",
         "rawType": "object",
         "type": "unknown"
        },
        {
         "name": "TTM PE(x)",
         "rawType": "object",
         "type": "unknown"
        },
        {
         "name": "Cons TTM PE(x)",
         "rawType": "object",
         "type": "unknown"
        },
        {
         "name": "Index",
         "rawType": "object",
         "type": "unknown"
        },
        {
         "name": "P/BV(x)",
         "rawType": "object",
         "type": "unknown"
        },
        {
         "name": "Cons P/BV(x)",
         "rawType": "object",
         "type": "unknown"
        },
        {
         "name": "EV/EBIDTA(x)",
         "rawType": "object",
         "type": "unknown"
        },
        {
         "name": "Cons EV/EBIDTA(x)",
         "rawType": "object",
         "type": "unknown"
        },
        {
         "name": "MCAP/Sales(x)",
         "rawType": "object",
         "type": "unknown"
        },
        {
         "name": "Cons MCAP/Sales(x)",
         "rawType": "object",
         "type": "unknown"
        },
        {
         "name": "Accord Code",
         "rawType": "int64",
         "type": "integer"
        }
       ],
       "ref": "49891dff-cf33-4e9f-9706-5abe4c75accc",
       "rows": [
        [
         "5",
         "2025-04-29 00:00:00",
         "77.45",
         "77.45",
         "74.67",
         "74.92",
         "4.001",
         "85",
         "0.030068846000000003",
         "78.666",
         "2.84959791349707",
         "1.97852112676056",
         "24335.95",
         "1.20790467708749",
         "0.859118013236354",
         "2.5942735042735",
         "1.62748550756222",
         "2.42534299367967",
         "0.567575757575758",
         "126921"
        ],
        [
         "6",
         "2025-04-28 00:00:00",
         "78.3",
         "78.3",
         "75.69",
         "76.2",
         "4.834",
         "88",
         "0.036741749",
         "80.01",
         "2.89828298196044",
         "2.01232394366197",
         "24328.5",
         "1.22854159629027",
         "0.873795950461962",
         "2.63845496383958",
         "1.65677548707667",
         "2.4667797132727",
         "0.577272727272727",
         "126921"
        ],
        [
         "7",
         "2025-04-25 00:00:00",
         "78.7",
         "80",
         "77.06",
         "77.21",
         "4.412",
         "111",
         "0.034287576",
         "81.0705",
         "2.93669854379483",
         "2.03899647887324",
         "24039.35",
         "1.24482541534871",
         "0.885377760304043",
         "2.67331689677844",
         "1.67988711153729",
         "2.49947587482658",
         "0.584924242424242",
         "126921"
        ],
        [
         "8",
         "2025-04-24 00:00:00",
         "80",
         "80.7",
         "78.1",
         "78.64",
         "2.934",
         "115",
         "0.023258445000000003",
         "82.572",
         "2.99108889371876",
         "2.07676056338028",
         "24246.7",
         "1.26788072352056",
         "0.901775768298277",
         "2.72267587113741",
         "1.71260951052609",
         "2.54576845999692",
         "0.595757575757576",
         "126921"
        ],
        [
         "9",
         "2025-04-23 00:00:00",
         "80.3",
         "80.3",
         "77.55",
         "79.14",
         "5.501",
         "141",
         "0.043789519",
         "83.097",
         "3.01010649858726",
         "2.08996478873239",
         "24328.95",
         "1.27594202008414",
         "0.90750933752703",
         "2.73993425378041",
         "1.72405090877392",
         "2.56195467858795",
         "0.599545454545455",
         "126921"
        ]
       ],
       "shape": {
        "columns": 19,
        "rows": 5
       }
      },
      "text/html": [
       "<div>\n",
       "<style scoped>\n",
       "    .dataframe tbody tr th:only-of-type {\n",
       "        vertical-align: middle;\n",
       "    }\n",
       "\n",
       "    .dataframe tbody tr th {\n",
       "        vertical-align: top;\n",
       "    }\n",
       "\n",
       "    .dataframe thead th {\n",
       "        text-align: right;\n",
       "    }\n",
       "</style>\n",
       "<table border=\"1\" class=\"dataframe\">\n",
       "  <thead>\n",
       "    <tr style=\"text-align: right;\">\n",
       "      <th>4</th>\n",
       "      <th>Date</th>\n",
       "      <th>Open (Unit Curr)</th>\n",
       "      <th>High (Unit Curr)</th>\n",
       "      <th>Low (Unit Curr)</th>\n",
       "      <th>Close (Unit Curr)</th>\n",
       "      <th>Volume (000's)</th>\n",
       "      <th>No of Trades</th>\n",
       "      <th>Value</th>\n",
       "      <th>Market Cap</th>\n",
       "      <th>TTM PE(x)</th>\n",
       "      <th>Cons TTM PE(x)</th>\n",
       "      <th>Index</th>\n",
       "      <th>P/BV(x)</th>\n",
       "      <th>Cons P/BV(x)</th>\n",
       "      <th>EV/EBIDTA(x)</th>\n",
       "      <th>Cons EV/EBIDTA(x)</th>\n",
       "      <th>MCAP/Sales(x)</th>\n",
       "      <th>Cons MCAP/Sales(x)</th>\n",
       "      <th>Accord Code</th>\n",
       "    </tr>\n",
       "  </thead>\n",
       "  <tbody>\n",
       "    <tr>\n",
       "      <th>5</th>\n",
       "      <td>2025-04-29 00:00:00</td>\n",
       "      <td>77.45</td>\n",
       "      <td>77.45</td>\n",
       "      <td>74.67</td>\n",
       "      <td>74.92</td>\n",
       "      <td>4.001</td>\n",
       "      <td>85</td>\n",
       "      <td>0.030069</td>\n",
       "      <td>78.666</td>\n",
       "      <td>2.849598</td>\n",
       "      <td>1.978521</td>\n",
       "      <td>24335.95</td>\n",
       "      <td>1.207905</td>\n",
       "      <td>0.859118</td>\n",
       "      <td>2.594274</td>\n",
       "      <td>1.627486</td>\n",
       "      <td>2.425343</td>\n",
       "      <td>0.567576</td>\n",
       "      <td>126921</td>\n",
       "    </tr>\n",
       "    <tr>\n",
       "      <th>6</th>\n",
       "      <td>2025-04-28 00:00:00</td>\n",
       "      <td>78.3</td>\n",
       "      <td>78.3</td>\n",
       "      <td>75.69</td>\n",
       "      <td>76.2</td>\n",
       "      <td>4.834</td>\n",
       "      <td>88</td>\n",
       "      <td>0.036742</td>\n",
       "      <td>80.01</td>\n",
       "      <td>2.898283</td>\n",
       "      <td>2.012324</td>\n",
       "      <td>24328.5</td>\n",
       "      <td>1.228542</td>\n",
       "      <td>0.873796</td>\n",
       "      <td>2.638455</td>\n",
       "      <td>1.656775</td>\n",
       "      <td>2.46678</td>\n",
       "      <td>0.577273</td>\n",
       "      <td>126921</td>\n",
       "    </tr>\n",
       "    <tr>\n",
       "      <th>7</th>\n",
       "      <td>2025-04-25 00:00:00</td>\n",
       "      <td>78.7</td>\n",
       "      <td>80</td>\n",
       "      <td>77.06</td>\n",
       "      <td>77.21</td>\n",
       "      <td>4.412</td>\n",
       "      <td>111</td>\n",
       "      <td>0.034288</td>\n",
       "      <td>81.0705</td>\n",
       "      <td>2.936699</td>\n",
       "      <td>2.038996</td>\n",
       "      <td>24039.35</td>\n",
       "      <td>1.244825</td>\n",
       "      <td>0.885378</td>\n",
       "      <td>2.673317</td>\n",
       "      <td>1.679887</td>\n",
       "      <td>2.499476</td>\n",
       "      <td>0.584924</td>\n",
       "      <td>126921</td>\n",
       "    </tr>\n",
       "    <tr>\n",
       "      <th>8</th>\n",
       "      <td>2025-04-24 00:00:00</td>\n",
       "      <td>80</td>\n",
       "      <td>80.7</td>\n",
       "      <td>78.1</td>\n",
       "      <td>78.64</td>\n",
       "      <td>2.934</td>\n",
       "      <td>115</td>\n",
       "      <td>0.023258</td>\n",
       "      <td>82.572</td>\n",
       "      <td>2.991089</td>\n",
       "      <td>2.076761</td>\n",
       "      <td>24246.7</td>\n",
       "      <td>1.267881</td>\n",
       "      <td>0.901776</td>\n",
       "      <td>2.722676</td>\n",
       "      <td>1.71261</td>\n",
       "      <td>2.545768</td>\n",
       "      <td>0.595758</td>\n",
       "      <td>126921</td>\n",
       "    </tr>\n",
       "    <tr>\n",
       "      <th>9</th>\n",
       "      <td>2025-04-23 00:00:00</td>\n",
       "      <td>80.3</td>\n",
       "      <td>80.3</td>\n",
       "      <td>77.55</td>\n",
       "      <td>79.14</td>\n",
       "      <td>5.501</td>\n",
       "      <td>141</td>\n",
       "      <td>0.04379</td>\n",
       "      <td>83.097</td>\n",
       "      <td>3.010106</td>\n",
       "      <td>2.089965</td>\n",
       "      <td>24328.95</td>\n",
       "      <td>1.275942</td>\n",
       "      <td>0.907509</td>\n",
       "      <td>2.739934</td>\n",
       "      <td>1.724051</td>\n",
       "      <td>2.561955</td>\n",
       "      <td>0.599545</td>\n",
       "      <td>126921</td>\n",
       "    </tr>\n",
       "  </tbody>\n",
       "</table>\n",
       "</div>"
      ],
      "text/plain": [
       "4                 Date Open (Unit Curr) High (Unit Curr) Low (Unit Curr)  \\\n",
       "5  2025-04-29 00:00:00            77.45            77.45           74.67   \n",
       "6  2025-04-28 00:00:00             78.3             78.3           75.69   \n",
       "7  2025-04-25 00:00:00             78.7               80           77.06   \n",
       "8  2025-04-24 00:00:00               80             80.7            78.1   \n",
       "9  2025-04-23 00:00:00             80.3             80.3           77.55   \n",
       "\n",
       "4 Close (Unit Curr) Volume (000's) No of Trades     Value Market Cap  \\\n",
       "5             74.92          4.001           85  0.030069     78.666   \n",
       "6              76.2          4.834           88  0.036742      80.01   \n",
       "7             77.21          4.412          111  0.034288    81.0705   \n",
       "8             78.64          2.934          115  0.023258     82.572   \n",
       "9             79.14          5.501          141   0.04379     83.097   \n",
       "\n",
       "4 TTM PE(x) Cons TTM PE(x)     Index   P/BV(x) Cons P/BV(x) EV/EBIDTA(x)  \\\n",
       "5  2.849598       1.978521  24335.95  1.207905     0.859118     2.594274   \n",
       "6  2.898283       2.012324   24328.5  1.228542     0.873796     2.638455   \n",
       "7  2.936699       2.038996  24039.35  1.244825     0.885378     2.673317   \n",
       "8  2.991089       2.076761   24246.7  1.267881     0.901776     2.722676   \n",
       "9  3.010106       2.089965  24328.95  1.275942     0.907509     2.739934   \n",
       "\n",
       "4 Cons EV/EBIDTA(x) MCAP/Sales(x) Cons MCAP/Sales(x)  Accord Code  \n",
       "5          1.627486      2.425343           0.567576       126921  \n",
       "6          1.656775       2.46678           0.577273       126921  \n",
       "7          1.679887      2.499476           0.584924       126921  \n",
       "8           1.71261      2.545768           0.595758       126921  \n",
       "9          1.724051      2.561955           0.599545       126921  "
      ]
     },
     "execution_count": 12,
     "metadata": {},
     "output_type": "execute_result"
    }
   ],
   "source": [
    "df.head()"
   ]
  },
  {
   "cell_type": "code",
   "execution_count": 13,
   "id": "54fe4e23",
   "metadata": {},
   "outputs": [
    {
     "data": {
      "text/plain": [
       "3663"
      ]
     },
     "execution_count": 13,
     "metadata": {},
     "output_type": "execute_result"
    }
   ],
   "source": [
    "df['Accord Code'].nunique()"
   ]
  },
  {
   "cell_type": "code",
   "execution_count": 14,
   "id": "685db0fb",
   "metadata": {},
   "outputs": [
    {
     "data": {
      "application/vnd.microsoft.datawrangler.viewer.v0+json": {
       "columns": [
        {
         "name": "index",
         "rawType": "int64",
         "type": "integer"
        },
        {
         "name": "Open (Unit Curr)",
         "rawType": "object",
         "type": "unknown"
        },
        {
         "name": "High (Unit Curr)",
         "rawType": "object",
         "type": "unknown"
        },
        {
         "name": "Low (Unit Curr)",
         "rawType": "object",
         "type": "unknown"
        },
        {
         "name": "Close (Unit Curr)",
         "rawType": "object",
         "type": "unknown"
        },
        {
         "name": "Volume (000's)",
         "rawType": "object",
         "type": "unknown"
        },
        {
         "name": "No of Trades",
         "rawType": "object",
         "type": "unknown"
        },
        {
         "name": "Market Cap",
         "rawType": "object",
         "type": "unknown"
        },
        {
         "name": "TTM PE(x)",
         "rawType": "object",
         "type": "unknown"
        },
        {
         "name": "Cons TTM PE(x)",
         "rawType": "object",
         "type": "unknown"
        },
        {
         "name": "P/BV(x)",
         "rawType": "object",
         "type": "unknown"
        },
        {
         "name": "Cons P/BV(x)",
         "rawType": "object",
         "type": "unknown"
        },
        {
         "name": "EV/EBIDTA(x)",
         "rawType": "object",
         "type": "unknown"
        },
        {
         "name": "Cons EV/EBIDTA(x)",
         "rawType": "object",
         "type": "unknown"
        },
        {
         "name": "MCAP/Sales(x)",
         "rawType": "object",
         "type": "unknown"
        },
        {
         "name": "Cons MCAP/Sales(x)",
         "rawType": "object",
         "type": "unknown"
        },
        {
         "name": "Accord Code",
         "rawType": "int64",
         "type": "integer"
        },
        {
         "name": "timestamp",
         "rawType": "object",
         "type": "unknown"
        }
       ],
       "ref": "0daf89eb-8e56-4711-af70-8be3d5251d27",
       "rows": [
        [
         "5",
         "77.45",
         "77.45",
         "74.67",
         "74.92",
         "4.001",
         "85",
         "78.666",
         "2.84959791349707",
         "1.97852112676056",
         "1.20790467708749",
         "0.859118013236354",
         "2.5942735042735",
         "1.62748550756222",
         "2.42534299367967",
         "0.567575757575758",
         "126921",
         "2025-04-29 00:00:00"
        ],
        [
         "6",
         "78.3",
         "78.3",
         "75.69",
         "76.2",
         "4.834",
         "88",
         "80.01",
         "2.89828298196044",
         "2.01232394366197",
         "1.22854159629027",
         "0.873795950461962",
         "2.63845496383958",
         "1.65677548707667",
         "2.4667797132727",
         "0.577272727272727",
         "126921",
         "2025-04-28 00:00:00"
        ],
        [
         "7",
         "78.7",
         "80",
         "77.06",
         "77.21",
         "4.412",
         "111",
         "81.0705",
         "2.93669854379483",
         "2.03899647887324",
         "1.24482541534871",
         "0.885377760304043",
         "2.67331689677844",
         "1.67988711153729",
         "2.49947587482658",
         "0.584924242424242",
         "126921",
         "2025-04-25 00:00:00"
        ],
        [
         "8",
         "80",
         "80.7",
         "78.1",
         "78.64",
         "2.934",
         "115",
         "82.572",
         "2.99108889371876",
         "2.07676056338028",
         "1.26788072352056",
         "0.901775768298277",
         "2.72267587113741",
         "1.71260951052609",
         "2.54576845999692",
         "0.595757575757576",
         "126921",
         "2025-04-24 00:00:00"
        ],
        [
         "9",
         "80.3",
         "80.3",
         "77.55",
         "79.14",
         "5.501",
         "141",
         "83.097",
         "3.01010649858726",
         "2.08996478873239",
         "1.27594202008414",
         "0.90750933752703",
         "2.73993425378041",
         "1.72405090877392",
         "2.56195467858795",
         "0.599545454545455",
         "126921",
         "2025-04-23 00:00:00"
        ]
       ],
       "shape": {
        "columns": 17,
        "rows": 5
       }
      },
      "text/html": [
       "<div>\n",
       "<style scoped>\n",
       "    .dataframe tbody tr th:only-of-type {\n",
       "        vertical-align: middle;\n",
       "    }\n",
       "\n",
       "    .dataframe tbody tr th {\n",
       "        vertical-align: top;\n",
       "    }\n",
       "\n",
       "    .dataframe thead th {\n",
       "        text-align: right;\n",
       "    }\n",
       "</style>\n",
       "<table border=\"1\" class=\"dataframe\">\n",
       "  <thead>\n",
       "    <tr style=\"text-align: right;\">\n",
       "      <th>4</th>\n",
       "      <th>Open (Unit Curr)</th>\n",
       "      <th>High (Unit Curr)</th>\n",
       "      <th>Low (Unit Curr)</th>\n",
       "      <th>Close (Unit Curr)</th>\n",
       "      <th>Volume (000's)</th>\n",
       "      <th>No of Trades</th>\n",
       "      <th>Market Cap</th>\n",
       "      <th>TTM PE(x)</th>\n",
       "      <th>Cons TTM PE(x)</th>\n",
       "      <th>P/BV(x)</th>\n",
       "      <th>Cons P/BV(x)</th>\n",
       "      <th>EV/EBIDTA(x)</th>\n",
       "      <th>Cons EV/EBIDTA(x)</th>\n",
       "      <th>MCAP/Sales(x)</th>\n",
       "      <th>Cons MCAP/Sales(x)</th>\n",
       "      <th>Accord Code</th>\n",
       "      <th>timestamp</th>\n",
       "    </tr>\n",
       "  </thead>\n",
       "  <tbody>\n",
       "    <tr>\n",
       "      <th>5</th>\n",
       "      <td>77.45</td>\n",
       "      <td>77.45</td>\n",
       "      <td>74.67</td>\n",
       "      <td>74.92</td>\n",
       "      <td>4.001</td>\n",
       "      <td>85</td>\n",
       "      <td>78.666</td>\n",
       "      <td>2.849598</td>\n",
       "      <td>1.978521</td>\n",
       "      <td>1.207905</td>\n",
       "      <td>0.859118</td>\n",
       "      <td>2.594274</td>\n",
       "      <td>1.627486</td>\n",
       "      <td>2.425343</td>\n",
       "      <td>0.567576</td>\n",
       "      <td>126921</td>\n",
       "      <td>2025-04-29 00:00:00</td>\n",
       "    </tr>\n",
       "    <tr>\n",
       "      <th>6</th>\n",
       "      <td>78.3</td>\n",
       "      <td>78.3</td>\n",
       "      <td>75.69</td>\n",
       "      <td>76.2</td>\n",
       "      <td>4.834</td>\n",
       "      <td>88</td>\n",
       "      <td>80.01</td>\n",
       "      <td>2.898283</td>\n",
       "      <td>2.012324</td>\n",
       "      <td>1.228542</td>\n",
       "      <td>0.873796</td>\n",
       "      <td>2.638455</td>\n",
       "      <td>1.656775</td>\n",
       "      <td>2.46678</td>\n",
       "      <td>0.577273</td>\n",
       "      <td>126921</td>\n",
       "      <td>2025-04-28 00:00:00</td>\n",
       "    </tr>\n",
       "    <tr>\n",
       "      <th>7</th>\n",
       "      <td>78.7</td>\n",
       "      <td>80</td>\n",
       "      <td>77.06</td>\n",
       "      <td>77.21</td>\n",
       "      <td>4.412</td>\n",
       "      <td>111</td>\n",
       "      <td>81.0705</td>\n",
       "      <td>2.936699</td>\n",
       "      <td>2.038996</td>\n",
       "      <td>1.244825</td>\n",
       "      <td>0.885378</td>\n",
       "      <td>2.673317</td>\n",
       "      <td>1.679887</td>\n",
       "      <td>2.499476</td>\n",
       "      <td>0.584924</td>\n",
       "      <td>126921</td>\n",
       "      <td>2025-04-25 00:00:00</td>\n",
       "    </tr>\n",
       "    <tr>\n",
       "      <th>8</th>\n",
       "      <td>80</td>\n",
       "      <td>80.7</td>\n",
       "      <td>78.1</td>\n",
       "      <td>78.64</td>\n",
       "      <td>2.934</td>\n",
       "      <td>115</td>\n",
       "      <td>82.572</td>\n",
       "      <td>2.991089</td>\n",
       "      <td>2.076761</td>\n",
       "      <td>1.267881</td>\n",
       "      <td>0.901776</td>\n",
       "      <td>2.722676</td>\n",
       "      <td>1.71261</td>\n",
       "      <td>2.545768</td>\n",
       "      <td>0.595758</td>\n",
       "      <td>126921</td>\n",
       "      <td>2025-04-24 00:00:00</td>\n",
       "    </tr>\n",
       "    <tr>\n",
       "      <th>9</th>\n",
       "      <td>80.3</td>\n",
       "      <td>80.3</td>\n",
       "      <td>77.55</td>\n",
       "      <td>79.14</td>\n",
       "      <td>5.501</td>\n",
       "      <td>141</td>\n",
       "      <td>83.097</td>\n",
       "      <td>3.010106</td>\n",
       "      <td>2.089965</td>\n",
       "      <td>1.275942</td>\n",
       "      <td>0.907509</td>\n",
       "      <td>2.739934</td>\n",
       "      <td>1.724051</td>\n",
       "      <td>2.561955</td>\n",
       "      <td>0.599545</td>\n",
       "      <td>126921</td>\n",
       "      <td>2025-04-23 00:00:00</td>\n",
       "    </tr>\n",
       "  </tbody>\n",
       "</table>\n",
       "</div>"
      ],
      "text/plain": [
       "4 Open (Unit Curr) High (Unit Curr) Low (Unit Curr) Close (Unit Curr)  \\\n",
       "5            77.45            77.45           74.67             74.92   \n",
       "6             78.3             78.3           75.69              76.2   \n",
       "7             78.7               80           77.06             77.21   \n",
       "8               80             80.7            78.1             78.64   \n",
       "9             80.3             80.3           77.55             79.14   \n",
       "\n",
       "4 Volume (000's) No of Trades Market Cap TTM PE(x) Cons TTM PE(x)   P/BV(x)  \\\n",
       "5          4.001           85     78.666  2.849598       1.978521  1.207905   \n",
       "6          4.834           88      80.01  2.898283       2.012324  1.228542   \n",
       "7          4.412          111    81.0705  2.936699       2.038996  1.244825   \n",
       "8          2.934          115     82.572  2.991089       2.076761  1.267881   \n",
       "9          5.501          141     83.097  3.010106       2.089965  1.275942   \n",
       "\n",
       "4 Cons P/BV(x) EV/EBIDTA(x) Cons EV/EBIDTA(x) MCAP/Sales(x)  \\\n",
       "5     0.859118     2.594274          1.627486      2.425343   \n",
       "6     0.873796     2.638455          1.656775       2.46678   \n",
       "7     0.885378     2.673317          1.679887      2.499476   \n",
       "8     0.901776     2.722676           1.71261      2.545768   \n",
       "9     0.907509     2.739934          1.724051      2.561955   \n",
       "\n",
       "4 Cons MCAP/Sales(x)  Accord Code            timestamp  \n",
       "5           0.567576       126921  2025-04-29 00:00:00  \n",
       "6           0.577273       126921  2025-04-28 00:00:00  \n",
       "7           0.584924       126921  2025-04-25 00:00:00  \n",
       "8           0.595758       126921  2025-04-24 00:00:00  \n",
       "9           0.599545       126921  2025-04-23 00:00:00  "
      ]
     },
     "execution_count": 14,
     "metadata": {},
     "output_type": "execute_result"
    }
   ],
   "source": [
    "df['timestamp'] = df['Date']\n",
    "df.drop(columns=[\"Value\", 'Index', 'Date'], inplace=True)\n",
    "df.head()"
   ]
  },
  {
   "cell_type": "code",
   "execution_count": 15,
   "id": "3ffadf26",
   "metadata": {},
   "outputs": [],
   "source": [
    "df['o'] = df['Open (Unit Curr)']\n",
    "df['h'] = df['High (Unit Curr)']\n",
    "df['l'] = df['Low (Unit Curr)']\n",
    "df['c'] = df['Close (Unit Curr)']\n",
    "df['v'] = df[\"Volume (000's)\"]"
   ]
  },
  {
   "cell_type": "code",
   "execution_count": null,
   "id": "e3cbd7b5",
   "metadata": {},
   "outputs": [],
   "source": []
  }
 ],
 "metadata": {
  "kernelspec": {
   "display_name": "venv",
   "language": "python",
   "name": "python3"
  },
  "language_info": {
   "codemirror_mode": {
    "name": "ipython",
    "version": 3
   },
   "file_extension": ".py",
   "mimetype": "text/x-python",
   "name": "python",
   "nbconvert_exporter": "python",
   "pygments_lexer": "ipython3",
   "version": "3.10.12"
  }
 },
 "nbformat": 4,
 "nbformat_minor": 5
}
